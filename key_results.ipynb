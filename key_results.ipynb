{
 "cells": [
  {
   "cell_type": "markdown",
   "id": "1aea2423-20fe-4339-8c8e-a928a8bd9558",
   "metadata": {},
   "source": [
    "# Results"
   ]
  },
  {
   "cell_type": "markdown",
   "id": "41fbddc9-8b6a-4f5e-8ddb-f26d2dbcb7f3",
   "metadata": {},
   "source": [
    "## Key points\n",
    "\n",
    "* 10 features gave ROC AUC of 0.919, compared with 0.922 for all 84 features."
   ]
  },
  {
   "cell_type": "markdown",
   "id": "3d483c1b-23e4-454d-b62a-9bcb4e78511a",
   "metadata": {},
   "source": [
    "## Feature selection\n",
    "\n",
    "Features were selected by identifying one feature at a time that led to greatest improvement in Receiver Operating Characteristic (ROC) Area Under Curve (AUC). ROC AUC was measured using 5-fold cross validation.\n",
    "\n",
    "The best model with 1, 2, 5, 10 & all 84 features had ROC AUCs of 0.715, 0.792, 0.891, 0.919 & 0.922. We selected ten features for all subsequent work, which were:\n",
    "\n",
    "* Arrival-to-scan time: Time from arrival at hospital to scan (mins)\n",
    "* Infarction: Stroke type (1 = infarction, 0 = haemorrhage)\n",
    "* Stroke severity: Stroke severity (NIHSS) on arrival\n",
    "* Precise onset time: Onset time type (1 = precise, 0 = best estimate)\n",
    "* Prior disability level: Disability level (modified Rankin Scale) before stroke\n",
    "* Stroke team: Stroke team attended\n",
    "* Use of AF anticoagulants: Use of atrial fibrillation anticoagulant (1 = Yes, 0 = No)\n",
    "* Onset-to-arrival time: Time from onset of stroke to arrival at hospital (mins)\n",
    "* Onset during sleep: Did stroke occur in sleep?\n",
    "* Age: Age (as middle of 5 year age bands)\n",
    "\n",
    "### Correlations within the 10 features\n",
    "\n",
    "Correlations between the 10 features were measured using coefficients of determination (r-squared). All r-squared were less than 0.15, and all r-squared were less than 0.05 except 1) age and prior disability level (r-squared 0.146), and 2) onset during sleep and precise onset time (r-squared 0.078)."
   ]
  },
  {
   "cell_type": "markdown",
   "id": "b9ade41c-f0ae-4852-b550-e14d1cdbe7bb",
   "metadata": {},
   "source": [
    "## Model accuracy"
   ]
  },
  {
   "cell_type": "markdown",
   "id": "1155ae0b-74ad-4a1c-a325-69c01da81e45",
   "metadata": {},
   "source": [
    "<img src=\"key_images/02_xgb_10_features_roc_sens_spec.jpg\" width=\"800\"/>"
   ]
  },
  {
   "cell_type": "markdown",
   "id": "edee0df4-b50e-4bc2-bf3a-d1e725e44428",
   "metadata": {},
   "source": [
    "## SHAP"
   ]
  },
  {
   "cell_type": "markdown",
   "id": "e4ab0874-b05a-4584-aa78-9b3bd79a9688",
   "metadata": {},
   "source": [
    "<img src=\"key_images/03_xgb_10_features_thrombolysis_shap_violin.jpg\" width=\"800\"/>\n"
   ]
  },
  {
   "cell_type": "markdown",
   "id": "c3257ed1-74e7-4141-a1d2-6b77d7a350b0",
   "metadata": {},
   "source": [
    "## 10k cohort"
   ]
  },
  {
   "cell_type": "markdown",
   "id": "8977c921-2ca2-404b-8e8a-2195e290d8d0",
   "metadata": {},
   "source": [
    "<img src=\"key_images/05_benchmark_thrombolysis_key_features.jpg\" width=\"400\"/>"
   ]
  },
  {
   "cell_type": "markdown",
   "id": "7bf87f50-1e57-41cb-a976-fb921d9e370c",
   "metadata": {},
   "source": [
    "## Subgroup analysis"
   ]
  },
  {
   "cell_type": "markdown",
   "id": "db7bcf37-d896-438c-8cb3-a986e858952e",
   "metadata": {},
   "source": [
    "<img src=\"key_images/15a_actual_vs_modelled_subgroup_violin.jpg\" width=\"600\"/>"
   ]
  },
  {
   "cell_type": "markdown",
   "id": "1001b3cf-7f43-4580-aa34-9dd1e210d696",
   "metadata": {},
   "source": [
    "## SHAP interactions"
   ]
  },
  {
   "cell_type": "markdown",
   "id": "82f5de91-e067-4d86-9474-8bc252dd8652",
   "metadata": {},
   "source": [
    "<img src=\"key_images/12ac_disability_interaction_example.jpg\" width=\"600\"/>"
   ]
  },
  {
   "cell_type": "code",
   "execution_count": null,
   "id": "32ca16fc-70a7-4850-b7f2-0cfc9652f4aa",
   "metadata": {},
   "outputs": [],
   "source": []
  }
 ],
 "metadata": {
  "kernelspec": {
   "display_name": "Python 3 (ipykernel)",
   "language": "python",
   "name": "python3"
  },
  "language_info": {
   "codemirror_mode": {
    "name": "ipython",
    "version": 3
   },
   "file_extension": ".py",
   "mimetype": "text/x-python",
   "name": "python",
   "nbconvert_exporter": "python",
   "pygments_lexer": "ipython3",
   "version": "3.9.12"
  }
 },
 "nbformat": 4,
 "nbformat_minor": 5
}
